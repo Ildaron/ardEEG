{
  "cells": [
    {
      "cell_type": "markdown",
      "metadata": {
        "id": "iR37Se18hjQL"
      },
      "source": [
        "Ildar Rakhmatulin ildarr2016@gmail.com"
      ]
    },
    {
      "cell_type": "markdown",
      "metadata": {
        "id": "nUA7vilcfsWz"
      },
      "source": [
        "## Introduction\n",
        "\n",
        "\n"
      ]
    },
    {
      "cell_type": "markdown",
      "metadata": {
        "id": "iukTtdQJhLjw"
      },
      "source": [
        "# How easy eliminate noise during EEG measurement\n"
      ]
    },
    {
      "cell_type": "markdown",
      "source": [
        "Electroencephalography (EEG) is a powerful tool for studying brain activity. PiEEG devices are systems that utilize Raspberry P/Arduino/Jetson Nanoi for EEG data acquisition. However, EEG signals are very delicate and susceptible to various types of noise, including electromagnetic interference. This manual provides guidelines for measuring EEG data using PiEEG while minimizing noise.\n",
        "\n",
        "For illustrative purposes, let’s take a look at PIEEG, but this concept applies to other boards as well.\n",
        "\n",
        "To begin, you’ll want to connect the cables and electrode clips. One clip electrode acts as a reference point, against which all EEG measurements, in microvolts, are conducted. In simpler terms, we measure the voltage between the ear and the electrode attachment point on the head. The bias electrode clip is need for eliminating electromagnetic noise, but it is not enough to solve all problems. It is necessary pay attentions for the next moments:\n",
        "\n",
        "1. It’s crucial that the device relies solely on battery power, screen, etc., completely independent from the grid power supply. Avoid using power from a PC, USB, etc.\n",
        "\n",
        "2. Opt for wired connections for the keyboard and mouse to minimize wireless interference (not Radio).\n",
        "\n",
        "3. Disable Wi-Fi and Bluetooth on the RaspberryPi.\n",
        "\n",
        "4. Position the device away from sources of disruptive noise like computers, Wi-Fi routers, phones, etc.\n",
        "\n",
        "5. Ensure there’s effective insulation between the device and its resting surface, such as a rubber mat or even a book.\n",
        "\n",
        "6. Ground contact with your feet can introduce noise; consider using foot insulation or avoiding contact with the floor during measurements, and better don’t use metal stool.\n",
        "\n",
        "7. Body movements can generate artifacts; hence, it’s vital for electrodes to establish good skin contact (without causing discomfort to the subject) and remain stationary.\n",
        "\n",
        "8. Applying gel can enhance the electrode-to-skin contact area, albeit unpleasant, it helps reduce noise from electrode micro-movements.\n",
        "\n",
        "So, any ideas let me know\n",
        "\n",
        "General view"
      ],
      "metadata": {
        "id": "jG8Wq3YUcuxL"
      }
    },
    {
      "cell_type": "markdown",
      "metadata": {
        "id": "9bxgisvWfs5f"
      },
      "source": [
        "# PiEEG\n",
        "Signal processing for EEG (Electroencephalography) data involves a range of techniques used to analyze and extract meaningful information from the electrical signals recorded from the brain. EEG signals are complex and often contaminated with noise, artifacts, and other unwanted components. Signal processing methods are essential for enhancing the signal quality, identifying patterns, and understanding brain activity."
      ]
    },
    {
      "cell_type": "markdown",
      "metadata": {
        "id": "UaRCjbE1qNsH"
      },
      "source": [
        "## How to start\n",
        "\n"
      ]
    }
  ],
  "metadata": {
    "accelerator": "GPU",
    "colab": {
      "provenance": [],
      "toc_visible": true
    },
    "gpuClass": "standard",
    "kernelspec": {
      "display_name": "Python 3",
      "name": "python3"
    },
    "language_info": {
      "name": "python"
    }
  },
  "nbformat": 4,
  "nbformat_minor": 0
}